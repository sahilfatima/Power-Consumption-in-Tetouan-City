{
  "metadata": {
    "kernelspec": {
      "language": "python",
      "display_name": "Python 3",
      "name": "python3"
    },
    "language_info": {
      "name": "python",
      "version": "3.10.13",
      "mimetype": "text/x-python",
      "codemirror_mode": {
        "name": "ipython",
        "version": 3
      },
      "pygments_lexer": "ipython3",
      "nbconvert_exporter": "python",
      "file_extension": ".py"
    },
    "kaggle": {
      "accelerator": "nvidiaTeslaT4",
      "dataSources": [
        {
          "sourceId": 8200719,
          "sourceType": "datasetVersion",
          "datasetId": 4858116
        }
      ],
      "dockerImageVersionId": 30699,
      "isInternetEnabled": true,
      "language": "python",
      "sourceType": "notebook",
      "isGpuEnabled": true
    },
    "colab": {
      "name": "Power Consumption",
      "provenance": [],
      "include_colab_link": true
    }
  },
  "nbformat_minor": 0,
  "nbformat": 4,
  "cells": [
    {
      "cell_type": "markdown",
      "metadata": {
        "id": "view-in-github",
        "colab_type": "text"
      },
      "source": [
        "<a href=\"https://colab.research.google.com/github/sahilfatima/Power-Consumption-in-Tetouan-City/blob/main/Power_Consumption.ipynb\" target=\"_parent\"><img src=\"https://colab.research.google.com/assets/colab-badge.svg\" alt=\"Open In Colab\"/></a>"
      ]
    },
    {
      "source": [
        "\n",
        "# IMPORTANT: RUN THIS CELL IN ORDER TO IMPORT YOUR KAGGLE DATA SOURCES\n",
        "# TO THE CORRECT LOCATION (/kaggle/input) IN YOUR NOTEBOOK,\n",
        "# THEN FEEL FREE TO DELETE THIS CELL.\n",
        "# NOTE: THIS NOTEBOOK ENVIRONMENT DIFFERS FROM KAGGLE'S PYTHON\n",
        "# ENVIRONMENT SO THERE MAY BE MISSING LIBRARIES USED BY YOUR\n",
        "# NOTEBOOK.\n",
        "\n",
        "import os\n",
        "import sys\n",
        "from tempfile import NamedTemporaryFile\n",
        "from urllib.request import urlopen\n",
        "from urllib.parse import unquote, urlparse\n",
        "from urllib.error import HTTPError\n",
        "from zipfile import ZipFile\n",
        "import tarfile\n",
        "import shutil\n",
        "\n",
        "CHUNK_SIZE = 40960\n",
        "DATA_SOURCE_MAPPING = 'power-consumption:https%3A%2F%2Fstorage.googleapis.com%2Fkaggle-data-sets%2F4858116%2F8200719%2Fbundle%2Farchive.zip%3FX-Goog-Algorithm%3DGOOG4-RSA-SHA256%26X-Goog-Credential%3Dgcp-kaggle-com%2540kaggle-161607.iam.gserviceaccount.com%252F20240423%252Fauto%252Fstorage%252Fgoog4_request%26X-Goog-Date%3D20240423T120615Z%26X-Goog-Expires%3D259200%26X-Goog-SignedHeaders%3Dhost%26X-Goog-Signature%3D5834f033f3120d3476c3975f8e3a9dc19c9fceffad9f8480f4e7d7eef7587aa62b2a6f2325e68008a99a0695a63c48213136c1b5013818a0ae0d574d75f32a103ef1283218724672846ef46bf09a33c290da31d1f4cf0061041a1cb9aa4d0a01ff8207a806ee73b077d78eba72c0eb7e8e955831eca459a63e2f3ea5b6480983ac0260365113cfcfd2764472751bc61ce55d13f1dedd9e6dc3f2f124d04249f3c11f22c6f409ebe069b89e66b78439277a0c72df6678802aa1d0cf0db816847f1a05a4352a4e61b16de8595352bc589ed691fb737fa796670384583e0d593fc8c1789b5dbf9e430f9bf7a9a63c9f5d9ba019b912410cc18fcea860924f4cd84f'\n",
        "\n",
        "KAGGLE_INPUT_PATH='/kaggle/input'\n",
        "KAGGLE_WORKING_PATH='/kaggle/working'\n",
        "KAGGLE_SYMLINK='kaggle'\n",
        "\n",
        "!umount /kaggle/input/ 2> /dev/null\n",
        "shutil.rmtree('/kaggle/input', ignore_errors=True)\n",
        "os.makedirs(KAGGLE_INPUT_PATH, 0o777, exist_ok=True)\n",
        "os.makedirs(KAGGLE_WORKING_PATH, 0o777, exist_ok=True)\n",
        "\n",
        "try:\n",
        "  os.symlink(KAGGLE_INPUT_PATH, os.path.join(\"..\", 'input'), target_is_directory=True)\n",
        "except FileExistsError:\n",
        "  pass\n",
        "try:\n",
        "  os.symlink(KAGGLE_WORKING_PATH, os.path.join(\"..\", 'working'), target_is_directory=True)\n",
        "except FileExistsError:\n",
        "  pass\n",
        "\n",
        "for data_source_mapping in DATA_SOURCE_MAPPING.split(','):\n",
        "    directory, download_url_encoded = data_source_mapping.split(':')\n",
        "    download_url = unquote(download_url_encoded)\n",
        "    filename = urlparse(download_url).path\n",
        "    destination_path = os.path.join(KAGGLE_INPUT_PATH, directory)\n",
        "    try:\n",
        "        with urlopen(download_url) as fileres, NamedTemporaryFile() as tfile:\n",
        "            total_length = fileres.headers['content-length']\n",
        "            print(f'Downloading {directory}, {total_length} bytes compressed')\n",
        "            dl = 0\n",
        "            data = fileres.read(CHUNK_SIZE)\n",
        "            while len(data) > 0:\n",
        "                dl += len(data)\n",
        "                tfile.write(data)\n",
        "                done = int(50 * dl / int(total_length))\n",
        "                sys.stdout.write(f\"\\r[{'=' * done}{' ' * (50-done)}] {dl} bytes downloaded\")\n",
        "                sys.stdout.flush()\n",
        "                data = fileres.read(CHUNK_SIZE)\n",
        "            if filename.endswith('.zip'):\n",
        "              with ZipFile(tfile) as zfile:\n",
        "                zfile.extractall(destination_path)\n",
        "            else:\n",
        "              with tarfile.open(tfile.name) as tarfile:\n",
        "                tarfile.extractall(destination_path)\n",
        "            print(f'\\nDownloaded and uncompressed: {directory}')\n",
        "    except HTTPError as e:\n",
        "        print(f'Failed to load (likely expired) {download_url} to path {destination_path}')\n",
        "        continue\n",
        "    except OSError as e:\n",
        "        print(f'Failed to load {download_url} to path {destination_path}')\n",
        "        continue\n",
        "\n",
        "print('Data source import complete.')\n"
      ],
      "metadata": {
        "id": "V_DM8q9i2Yhl"
      },
      "cell_type": "code",
      "outputs": [],
      "execution_count": null
    },
    {
      "cell_type": "markdown",
      "source": [
        "# <div style=\"text-align: center; background-color:skyblue; font-family:Georgia, serif; color: black; padding: 20px;line-height: 1;border-radius:5px; border: 2px solid black;\">Power Consumption of Tetouan City</div>\n"
      ],
      "metadata": {
        "id": "3TQnx8FY2Yhp"
      }
    },
    {
      "cell_type": "code",
      "source": [
        "#Importing libraries\n",
        "import pandas as pd\n",
        "import numpy as np\n",
        "import matplotlib.pyplot as plt\n",
        "import seaborn as sns\n",
        "from sklearn.model_selection import train_test_split\n",
        "from sklearn.ensemble import RandomForestClassifier\n",
        "from statsmodels.tsa.seasonal import STL"
      ],
      "metadata": {
        "execution": {
          "iopub.status.busy": "2024-04-23T11:57:12.132823Z",
          "iopub.execute_input": "2024-04-23T11:57:12.133611Z",
          "iopub.status.idle": "2024-04-23T11:57:12.90247Z",
          "shell.execute_reply.started": "2024-04-23T11:57:12.133575Z",
          "shell.execute_reply": "2024-04-23T11:57:12.901585Z"
        },
        "trusted": true,
        "id": "AjQsPHfa2Yhq"
      },
      "execution_count": null,
      "outputs": []
    },
    {
      "cell_type": "markdown",
      "source": [
        "# Loading Data"
      ],
      "metadata": {
        "id": "pJ5v0MY-2Yhr"
      }
    },
    {
      "cell_type": "code",
      "source": [
        "df = pd.read_csv('/kaggle/input/power-consumption/Tetuan City power consumption.csv')"
      ],
      "metadata": {
        "execution": {
          "iopub.status.busy": "2024-04-23T11:57:44.109413Z",
          "iopub.execute_input": "2024-04-23T11:57:44.110607Z",
          "iopub.status.idle": "2024-04-23T11:57:44.325398Z",
          "shell.execute_reply.started": "2024-04-23T11:57:44.110545Z",
          "shell.execute_reply": "2024-04-23T11:57:44.324383Z"
        },
        "trusted": true,
        "id": "U3oUpZCC2Yhr"
      },
      "execution_count": null,
      "outputs": []
    },
    {
      "cell_type": "code",
      "source": [
        "df"
      ],
      "metadata": {
        "execution": {
          "iopub.status.busy": "2024-04-23T11:57:46.938632Z",
          "iopub.execute_input": "2024-04-23T11:57:46.939048Z",
          "iopub.status.idle": "2024-04-23T11:57:46.985933Z",
          "shell.execute_reply.started": "2024-04-23T11:57:46.939019Z",
          "shell.execute_reply": "2024-04-23T11:57:46.984877Z"
        },
        "trusted": true,
        "id": "Da1KaQwP2Yhr"
      },
      "execution_count": null,
      "outputs": []
    },
    {
      "cell_type": "markdown",
      "source": [
        "# Data Preprocessing"
      ],
      "metadata": {
        "id": "VTW1S19I2Yhs"
      }
    },
    {
      "cell_type": "code",
      "source": [
        "df.info()"
      ],
      "metadata": {
        "execution": {
          "iopub.status.busy": "2024-04-23T11:57:52.156617Z",
          "iopub.execute_input": "2024-04-23T11:57:52.156992Z",
          "iopub.status.idle": "2024-04-23T11:57:52.194799Z",
          "shell.execute_reply.started": "2024-04-23T11:57:52.156964Z",
          "shell.execute_reply": "2024-04-23T11:57:52.193815Z"
        },
        "trusted": true,
        "id": "OaH4l-rZ2Yhs"
      },
      "execution_count": null,
      "outputs": []
    },
    {
      "cell_type": "code",
      "source": [
        "df.describe()"
      ],
      "metadata": {
        "execution": {
          "iopub.status.busy": "2024-04-23T11:58:03.901405Z",
          "iopub.execute_input": "2024-04-23T11:58:03.901775Z",
          "iopub.status.idle": "2024-04-23T11:58:03.953445Z",
          "shell.execute_reply.started": "2024-04-23T11:58:03.901748Z",
          "shell.execute_reply": "2024-04-23T11:58:03.952385Z"
        },
        "trusted": true,
        "id": "f0Me9QPT2Yht"
      },
      "execution_count": null,
      "outputs": []
    },
    {
      "cell_type": "code",
      "source": [
        "df.columns"
      ],
      "metadata": {
        "execution": {
          "iopub.status.busy": "2024-04-23T11:58:08.217984Z",
          "iopub.execute_input": "2024-04-23T11:58:08.218389Z",
          "iopub.status.idle": "2024-04-23T11:58:08.226167Z",
          "shell.execute_reply.started": "2024-04-23T11:58:08.218358Z",
          "shell.execute_reply": "2024-04-23T11:58:08.224797Z"
        },
        "trusted": true,
        "id": "Ue0Q7xJd2Yht"
      },
      "execution_count": null,
      "outputs": []
    },
    {
      "cell_type": "code",
      "source": [
        "# Checking unique values\n",
        "for i in df.columns:\n",
        "    print(i,':',df[i].nunique())"
      ],
      "metadata": {
        "execution": {
          "iopub.status.busy": "2024-04-23T11:58:17.639585Z",
          "iopub.execute_input": "2024-04-23T11:58:17.640522Z",
          "iopub.status.idle": "2024-04-23T11:58:17.684565Z",
          "shell.execute_reply.started": "2024-04-23T11:58:17.640478Z",
          "shell.execute_reply": "2024-04-23T11:58:17.683349Z"
        },
        "trusted": true,
        "id": "Jfh3Zq_S2Yht"
      },
      "execution_count": null,
      "outputs": []
    },
    {
      "cell_type": "code",
      "source": [
        "# Checking null values\n",
        "df.isnull().sum()"
      ],
      "metadata": {
        "execution": {
          "iopub.status.busy": "2024-04-23T11:58:21.232844Z",
          "iopub.execute_input": "2024-04-23T11:58:21.233613Z",
          "iopub.status.idle": "2024-04-23T11:58:21.24927Z",
          "shell.execute_reply.started": "2024-04-23T11:58:21.233575Z",
          "shell.execute_reply": "2024-04-23T11:58:21.248226Z"
        },
        "trusted": true,
        "id": "1-v_PDwM2Yht"
      },
      "execution_count": null,
      "outputs": []
    },
    {
      "cell_type": "markdown",
      "source": [
        "Cleaned data"
      ],
      "metadata": {
        "id": "ioyLcmUX2Yhu"
      }
    },
    {
      "cell_type": "markdown",
      "source": [
        "# Convert datatype into dattime"
      ],
      "metadata": {
        "id": "ELkCqwBw2Yhu"
      }
    },
    {
      "cell_type": "code",
      "source": [
        "df['DateTime'] = pd.to_datetime(df['DateTime'])"
      ],
      "metadata": {
        "execution": {
          "iopub.status.busy": "2024-04-23T11:58:32.163189Z",
          "iopub.execute_input": "2024-04-23T11:58:32.163589Z",
          "iopub.status.idle": "2024-04-23T11:58:32.447166Z",
          "shell.execute_reply.started": "2024-04-23T11:58:32.163549Z",
          "shell.execute_reply": "2024-04-23T11:58:32.44604Z"
        },
        "trusted": true,
        "id": "hxNLHPy42Yhu"
      },
      "execution_count": null,
      "outputs": []
    },
    {
      "cell_type": "code",
      "source": [
        "df"
      ],
      "metadata": {
        "execution": {
          "iopub.status.busy": "2024-04-23T11:58:38.384486Z",
          "iopub.execute_input": "2024-04-23T11:58:38.384912Z",
          "iopub.status.idle": "2024-04-23T11:58:38.409667Z",
          "shell.execute_reply.started": "2024-04-23T11:58:38.384883Z",
          "shell.execute_reply": "2024-04-23T11:58:38.408607Z"
        },
        "trusted": true,
        "id": "Ex70lXo42Yhu"
      },
      "execution_count": null,
      "outputs": []
    },
    {
      "cell_type": "code",
      "source": [
        "df.info()"
      ],
      "metadata": {
        "execution": {
          "iopub.status.busy": "2024-04-23T11:58:48.208841Z",
          "iopub.execute_input": "2024-04-23T11:58:48.209287Z",
          "iopub.status.idle": "2024-04-23T11:58:48.222894Z",
          "shell.execute_reply.started": "2024-04-23T11:58:48.209255Z",
          "shell.execute_reply": "2024-04-23T11:58:48.221617Z"
        },
        "trusted": true,
        "id": "7WppkkFn2Yhu"
      },
      "execution_count": null,
      "outputs": []
    },
    {
      "cell_type": "code",
      "source": [
        "# Temperature\n",
        "plt.figure(figsize=(10,6))\n",
        "plt.plot(df['DateTime'], df['Temperature'], color='blue')\n",
        "plt.title('Temperature over Time')\n",
        "plt.xlabel('DateTime')\n",
        "plt.ylabel('Temperature')\n"
      ],
      "metadata": {
        "execution": {
          "iopub.status.busy": "2024-04-23T11:59:01.284286Z",
          "iopub.execute_input": "2024-04-23T11:59:01.28472Z",
          "iopub.status.idle": "2024-04-23T11:59:01.764521Z",
          "shell.execute_reply.started": "2024-04-23T11:59:01.284689Z",
          "shell.execute_reply": "2024-04-23T11:59:01.763476Z"
        },
        "trusted": true,
        "id": "Lu6UIKyz2Yhu"
      },
      "execution_count": null,
      "outputs": []
    },
    {
      "cell_type": "code",
      "source": [
        "plt.figure(figsize=(10,6))\n",
        "plt.plot(df['DateTime'], df['Humidity'], color='green')\n",
        "plt.title('Humidity over Time')\n",
        "plt.xlabel('DateTime')\n",
        "plt.ylabel('Humidity')"
      ],
      "metadata": {
        "execution": {
          "iopub.status.busy": "2024-04-23T11:59:07.523758Z",
          "iopub.execute_input": "2024-04-23T11:59:07.524133Z",
          "iopub.status.idle": "2024-04-23T11:59:07.995473Z",
          "shell.execute_reply.started": "2024-04-23T11:59:07.524105Z",
          "shell.execute_reply": "2024-04-23T11:59:07.994421Z"
        },
        "trusted": true,
        "id": "9Mw_Spdd2Yhv"
      },
      "execution_count": null,
      "outputs": []
    },
    {
      "cell_type": "code",
      "source": [
        "# Power Consumption\n",
        "plt.figure(figsize=(10,6))\n",
        "plt.scatter(df['DateTime'],df['Zone 2  Power Consumption'], label='Zone 2  Power Consumption', color='red')\n",
        "\n",
        "# Set labels and title\n",
        "plt.xlabel('DateTime')\n",
        "plt.ylabel('Value')\n",
        "plt.title('Time Series Data')\n",
        "plt.legend()\n",
        "\n",
        "plt.show()"
      ],
      "metadata": {
        "execution": {
          "iopub.status.busy": "2024-04-23T11:59:26.275712Z",
          "iopub.execute_input": "2024-04-23T11:59:26.276127Z",
          "iopub.status.idle": "2024-04-23T11:59:27.214667Z",
          "shell.execute_reply.started": "2024-04-23T11:59:26.276097Z",
          "shell.execute_reply": "2024-04-23T11:59:27.213732Z"
        },
        "trusted": true,
        "id": "Qg1c_kHE2Yhv"
      },
      "execution_count": null,
      "outputs": []
    },
    {
      "cell_type": "code",
      "source": [
        "plt.figure(figsize=(10,6))\n",
        "plt.plot(df['DateTime'], df['Zone 1 Power Consumption'], color='red')\n",
        "plt.title('Power Consumption (Zone 1) over Time')\n",
        "plt.xlabel('DateTime')\n",
        "plt.ylabel('Power Consumption')\n"
      ],
      "metadata": {
        "execution": {
          "iopub.status.busy": "2024-04-23T11:59:35.325217Z",
          "iopub.execute_input": "2024-04-23T11:59:35.325616Z",
          "iopub.status.idle": "2024-04-23T11:59:35.866075Z",
          "shell.execute_reply.started": "2024-04-23T11:59:35.325586Z",
          "shell.execute_reply": "2024-04-23T11:59:35.865079Z"
        },
        "trusted": true,
        "id": "mBpjxi9E2Yhv"
      },
      "execution_count": null,
      "outputs": []
    },
    {
      "cell_type": "code",
      "source": [
        "from statsmodels.tsa.seasonal import STL\n",
        "\n",
        "# Assuming your DataFrame is named df and 'DateTime' is already in datetime format\n",
        "variable_of_interest = 'Temperature'\n",
        "df_resampled = df.set_index('DateTime').resample('D').mean()\n",
        "\n",
        "# Perform STL decomposition on the resampled data\n",
        "stl_result = STL(df_resampled[variable_of_interest], seasonal=13).fit()\n",
        "\n",
        "# Plot the original time series data\n",
        "plt.plot(df_resampled.index, df_resampled[variable_of_interest], label='Original', color='blue')\n",
        "plt.title('Original Time Series (Daily)')\n",
        "plt.xlabel('DateTime')\n",
        "plt.ylabel(variable_of_interest)\n",
        "plt.legend()"
      ],
      "metadata": {
        "execution": {
          "iopub.status.busy": "2024-04-23T11:59:53.7867Z",
          "iopub.execute_input": "2024-04-23T11:59:53.787502Z",
          "iopub.status.idle": "2024-04-23T11:59:54.225213Z",
          "shell.execute_reply.started": "2024-04-23T11:59:53.787467Z",
          "shell.execute_reply": "2024-04-23T11:59:54.224186Z"
        },
        "trusted": true,
        "id": "wvOdc6hP2Yhv"
      },
      "execution_count": null,
      "outputs": []
    },
    {
      "cell_type": "code",
      "source": [
        "df_resampled"
      ],
      "metadata": {
        "execution": {
          "iopub.status.busy": "2024-04-23T05:56:33.776174Z",
          "iopub.execute_input": "2024-04-23T05:56:33.776789Z",
          "iopub.status.idle": "2024-04-23T05:56:33.794345Z",
          "shell.execute_reply.started": "2024-04-23T05:56:33.77676Z",
          "shell.execute_reply": "2024-04-23T05:56:33.793339Z"
        },
        "trusted": true,
        "id": "P11Wsl3r2Yhv"
      },
      "execution_count": null,
      "outputs": []
    },
    {
      "cell_type": "code",
      "source": [
        "# Perform STL decomposition\n",
        "from statsmodels.tsa.seasonal import seasonal_decompose\n",
        "\n",
        "# Perform seasonal decomposition using seasonal_decompose\n",
        "result = seasonal_decompose(df.set_index('DateTime')[variable_of_interest], model='additive', period=13)\n",
        "\n",
        "plt.plot(df['DateTime'], result.trend, label='Trend', color='red')\n",
        "plt.title('Trend Component')\n",
        "plt.xlabel('DateTime')\n",
        "plt.ylabel('Trend')\n",
        "plt.legend()\n"
      ],
      "metadata": {
        "execution": {
          "iopub.status.busy": "2024-04-23T12:00:07.597233Z",
          "iopub.execute_input": "2024-04-23T12:00:07.597655Z",
          "iopub.status.idle": "2024-04-23T12:00:08.152724Z",
          "shell.execute_reply.started": "2024-04-23T12:00:07.597623Z",
          "shell.execute_reply": "2024-04-23T12:00:08.151504Z"
        },
        "trusted": true,
        "id": "mrbu5qq62Yhv"
      },
      "execution_count": null,
      "outputs": []
    },
    {
      "cell_type": "code",
      "source": [
        "result"
      ],
      "metadata": {
        "execution": {
          "iopub.status.busy": "2024-04-23T05:56:19.128599Z",
          "iopub.execute_input": "2024-04-23T05:56:19.128975Z",
          "iopub.status.idle": "2024-04-23T05:56:19.135049Z",
          "shell.execute_reply.started": "2024-04-23T05:56:19.128943Z",
          "shell.execute_reply": "2024-04-23T05:56:19.134119Z"
        },
        "trusted": true,
        "id": "iYgPvc7h2Yhv"
      },
      "execution_count": null,
      "outputs": []
    },
    {
      "cell_type": "code",
      "source": [
        "plt.plot(df['DateTime'], result.seasonal, label='Seasonal', color='green')\n",
        "plt.title('Seasonal Component')\n",
        "plt.xlabel('DateTime')\n",
        "plt.ylabel('Seasonal')\n",
        "plt.legend()"
      ],
      "metadata": {
        "execution": {
          "iopub.status.busy": "2024-04-23T12:00:16.00147Z",
          "iopub.execute_input": "2024-04-23T12:00:16.002471Z",
          "iopub.status.idle": "2024-04-23T12:00:18.657671Z",
          "shell.execute_reply.started": "2024-04-23T12:00:16.002436Z",
          "shell.execute_reply": "2024-04-23T12:00:18.656678Z"
        },
        "trusted": true,
        "id": "f1dW5Umn2Yhw"
      },
      "execution_count": null,
      "outputs": []
    },
    {
      "cell_type": "code",
      "source": [
        "plt.plot(df['DateTime'], result.resid, label='Residual', color='purple')\n",
        "plt.title('Residual Component')\n",
        "plt.xlabel('DateTime')\n",
        "plt.ylabel('Residual')\n",
        "plt.legend()"
      ],
      "metadata": {
        "execution": {
          "iopub.status.busy": "2024-04-23T12:00:27.305504Z",
          "iopub.execute_input": "2024-04-23T12:00:27.306033Z",
          "iopub.status.idle": "2024-04-23T12:00:27.868294Z",
          "shell.execute_reply.started": "2024-04-23T12:00:27.306003Z",
          "shell.execute_reply": "2024-04-23T12:00:27.867153Z"
        },
        "trusted": true,
        "id": "guICFM8q2Yhw"
      },
      "execution_count": null,
      "outputs": []
    },
    {
      "cell_type": "markdown",
      "source": [
        "# Model"
      ],
      "metadata": {
        "id": "gaCm9E1j2Yhw"
      }
    },
    {
      "cell_type": "code",
      "source": [
        "from sklearn.model_selection import train_test_split\n",
        "from sklearn.linear_model import LinearRegression\n",
        "from sklearn.preprocessing import StandardScaler\n",
        "from sklearn.ensemble import RandomForestRegressor\n",
        "import xgboost as xgb\n",
        "from sklearn.metrics import mean_squared_error, mean_absolute_error, r2_score"
      ],
      "metadata": {
        "execution": {
          "iopub.status.busy": "2024-04-23T12:00:35.374111Z",
          "iopub.execute_input": "2024-04-23T12:00:35.37487Z",
          "iopub.status.idle": "2024-04-23T12:00:35.726572Z",
          "shell.execute_reply.started": "2024-04-23T12:00:35.374835Z",
          "shell.execute_reply": "2024-04-23T12:00:35.725594Z"
        },
        "trusted": true,
        "id": "jmCS8S8n2Yhw"
      },
      "execution_count": null,
      "outputs": []
    },
    {
      "cell_type": "code",
      "source": [
        "df.columns"
      ],
      "metadata": {
        "execution": {
          "iopub.status.busy": "2024-04-23T12:00:39.293701Z",
          "iopub.execute_input": "2024-04-23T12:00:39.294713Z",
          "iopub.status.idle": "2024-04-23T12:00:39.301248Z",
          "shell.execute_reply.started": "2024-04-23T12:00:39.294665Z",
          "shell.execute_reply": "2024-04-23T12:00:39.300124Z"
        },
        "trusted": true,
        "id": "fTrCpmsZ2Yhw"
      },
      "execution_count": null,
      "outputs": []
    },
    {
      "cell_type": "code",
      "source": [
        "df"
      ],
      "metadata": {
        "execution": {
          "iopub.status.busy": "2024-04-23T12:00:42.846402Z",
          "iopub.execute_input": "2024-04-23T12:00:42.847118Z",
          "iopub.status.idle": "2024-04-23T12:00:42.870416Z",
          "shell.execute_reply.started": "2024-04-23T12:00:42.847084Z",
          "shell.execute_reply": "2024-04-23T12:00:42.869159Z"
        },
        "trusted": true,
        "id": "Au2CPfir2Yhw"
      },
      "execution_count": null,
      "outputs": []
    },
    {
      "cell_type": "code",
      "source": [
        "X = df[['Temperature', 'Humidity', 'Wind Speed', 'general diffuse flows','Zone 1 Power Consumption',\n",
        "       'Zone 2  Power Consumption', 'diffuse flows']]\n",
        "y = df['Zone 3  Power Consumption']"
      ],
      "metadata": {
        "execution": {
          "iopub.status.busy": "2024-04-23T12:00:49.270405Z",
          "iopub.execute_input": "2024-04-23T12:00:49.270791Z",
          "iopub.status.idle": "2024-04-23T12:00:49.27787Z",
          "shell.execute_reply.started": "2024-04-23T12:00:49.270762Z",
          "shell.execute_reply": "2024-04-23T12:00:49.276529Z"
        },
        "trusted": true,
        "id": "iwTrPwfy2Yhw"
      },
      "execution_count": null,
      "outputs": []
    },
    {
      "cell_type": "code",
      "source": [
        "# Split the data into training and testing sets\n",
        "X_train, X_test, y_train, y_test = train_test_split(X, y, test_size=0.2, random_state=42)\n"
      ],
      "metadata": {
        "execution": {
          "iopub.status.busy": "2024-04-23T12:00:55.733734Z",
          "iopub.execute_input": "2024-04-23T12:00:55.73491Z",
          "iopub.status.idle": "2024-04-23T12:00:55.752974Z",
          "shell.execute_reply.started": "2024-04-23T12:00:55.73486Z",
          "shell.execute_reply": "2024-04-23T12:00:55.751849Z"
        },
        "trusted": true,
        "id": "IJMIm7V_2Yhx"
      },
      "execution_count": null,
      "outputs": []
    },
    {
      "cell_type": "code",
      "source": [
        "# Initialize the StandardScaler\n",
        "scaler = StandardScaler()\n",
        "# Fit and transform the training data\n",
        "X_train_scaled = scaler.fit_transform(X_train)\n",
        "# Transform the testing data\n",
        "X_test_scaled = scaler.transform(X_test)"
      ],
      "metadata": {
        "execution": {
          "iopub.status.busy": "2024-04-23T12:01:07.532837Z",
          "iopub.execute_input": "2024-04-23T12:01:07.533483Z",
          "iopub.status.idle": "2024-04-23T12:01:07.546462Z",
          "shell.execute_reply.started": "2024-04-23T12:01:07.533449Z",
          "shell.execute_reply": "2024-04-23T12:01:07.545321Z"
        },
        "trusted": true,
        "id": "Vib_Y9eF2Yhx"
      },
      "execution_count": null,
      "outputs": []
    },
    {
      "cell_type": "code",
      "source": [
        "# Initialize the Linear Regression model\n",
        "model = LinearRegression()\n",
        "# Train the model on the scaled training data\n",
        "model.fit(X_train_scaled, y_train)"
      ],
      "metadata": {
        "execution": {
          "iopub.status.busy": "2024-04-23T12:01:10.026418Z",
          "iopub.execute_input": "2024-04-23T12:01:10.027464Z",
          "iopub.status.idle": "2024-04-23T12:01:10.103883Z",
          "shell.execute_reply.started": "2024-04-23T12:01:10.027419Z",
          "shell.execute_reply": "2024-04-23T12:01:10.100065Z"
        },
        "trusted": true,
        "id": "q_wRYIyD2Yhx"
      },
      "execution_count": null,
      "outputs": []
    },
    {
      "cell_type": "code",
      "source": [
        "# Make predictions on the scaled testing data\n",
        "y_pred = model.predict(X_test_scaled)\n"
      ],
      "metadata": {
        "execution": {
          "iopub.status.busy": "2024-04-23T12:01:12.286897Z",
          "iopub.execute_input": "2024-04-23T12:01:12.287671Z",
          "iopub.status.idle": "2024-04-23T12:01:12.296868Z",
          "shell.execute_reply.started": "2024-04-23T12:01:12.28764Z",
          "shell.execute_reply": "2024-04-23T12:01:12.294849Z"
        },
        "trusted": true,
        "id": "LoKBWH322Yhx"
      },
      "execution_count": null,
      "outputs": []
    },
    {
      "cell_type": "code",
      "source": [
        "mse = np.sqrt(mean_squared_error(y_test, y_pred))\n",
        "print(\"Mean Squared Error (Linear Regression):\", mse)\n",
        "r2_R = r2_score(y_test, y_pred)\n",
        "print(f'R-squared: {r2_R:.4f}')"
      ],
      "metadata": {
        "execution": {
          "iopub.status.busy": "2024-04-23T12:01:14.582999Z",
          "iopub.execute_input": "2024-04-23T12:01:14.583394Z",
          "iopub.status.idle": "2024-04-23T12:01:14.592412Z",
          "shell.execute_reply.started": "2024-04-23T12:01:14.583365Z",
          "shell.execute_reply": "2024-04-23T12:01:14.591314Z"
        },
        "trusted": true,
        "id": "JzHUx19z2Yhx"
      },
      "execution_count": null,
      "outputs": []
    },
    {
      "cell_type": "markdown",
      "source": [
        "# Random Forest Regressor"
      ],
      "metadata": {
        "id": "Nufs6DPd2Yhx"
      }
    },
    {
      "cell_type": "code",
      "source": [
        "# Initialize the Random Forest Regressor\n",
        "model = RandomForestRegressor(n_estimators=100, random_state=42)\n",
        "\n",
        "# Train the model\n",
        "model.fit(X_train, y_train)"
      ],
      "metadata": {
        "execution": {
          "iopub.status.busy": "2024-04-23T12:01:17.798837Z",
          "iopub.execute_input": "2024-04-23T12:01:17.799689Z",
          "iopub.status.idle": "2024-04-23T12:01:47.85838Z",
          "shell.execute_reply.started": "2024-04-23T12:01:17.799657Z",
          "shell.execute_reply": "2024-04-23T12:01:47.857301Z"
        },
        "trusted": true,
        "id": "mJP8gMqA2Yhx"
      },
      "execution_count": null,
      "outputs": []
    },
    {
      "cell_type": "code",
      "source": [
        "# Make predictions on the testing set\n",
        "y_pred = model.predict(X_test)"
      ],
      "metadata": {
        "execution": {
          "iopub.status.busy": "2024-04-23T12:02:15.058072Z",
          "iopub.execute_input": "2024-04-23T12:02:15.058467Z",
          "iopub.status.idle": "2024-04-23T12:02:15.444628Z",
          "shell.execute_reply.started": "2024-04-23T12:02:15.058439Z",
          "shell.execute_reply": "2024-04-23T12:02:15.443762Z"
        },
        "trusted": true,
        "id": "_khY8RnH2Yh2"
      },
      "execution_count": null,
      "outputs": []
    },
    {
      "cell_type": "code",
      "source": [
        "# Evaluate the model\n",
        "mse = np.sqrt(mean_squared_error(y_test, y_pred))\n",
        "print(\"Mean Squared Error (Random Forest Regressor):\", mse)\n",
        "r2_R = r2_score(y_test, y_pred)\n",
        "print(f'R-squared: {r2_R:.4f}')"
      ],
      "metadata": {
        "execution": {
          "iopub.status.busy": "2024-04-23T12:02:16.427347Z",
          "iopub.execute_input": "2024-04-23T12:02:16.427762Z",
          "iopub.status.idle": "2024-04-23T12:02:16.436811Z",
          "shell.execute_reply.started": "2024-04-23T12:02:16.427731Z",
          "shell.execute_reply": "2024-04-23T12:02:16.435612Z"
        },
        "trusted": true,
        "id": "UjMi2sq12Yh2"
      },
      "execution_count": null,
      "outputs": []
    }
  ]
}